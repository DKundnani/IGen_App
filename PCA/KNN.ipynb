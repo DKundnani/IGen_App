{
 "cells": [
  {
   "cell_type": "code",
   "execution_count": 136,
   "metadata": {},
   "outputs": [],
   "source": [
    "import pandas as pd\n",
    "from sklearn.model_selection import train_test_split\n",
    "from sklearn.preprocessing import StandardScaler\n",
    "from sklearn.neighbors import KNeighborsClassifier\n",
    "from sklearn import metrics\n"
   ]
  },
  {
   "cell_type": "code",
   "execution_count": 183,
   "metadata": {},
   "outputs": [],
   "source": [
    "column_names=[\"pop\", \"pop_dup\", \"PC1\", \"PC2\", \"PC3\", \"PC4\", \"PC5\", \"PC6\", \"PC7\", \"PC8\", \"PC9\", \"PC10\", \"PC11\", \"PC12\", \"PC13\", \"PC14\", \"PC15\", \"PC16\", \"PC17\", \"PC18\", \"PC19\", \"PC20\"]\n",
    "df=pd.read_csv(\"1000G_PCA_merged.eigenvec\", sep=' ', names=column_names)\n",
    "\n",
    "\n",
    "# splitting dataframe by row index \n",
    "df_1 = df.loc[:500,:] \n",
    "df_2 = df.loc[500,:] \n",
    "\n",
    "#pick the number of dimensions \n",
    "X=df_1.iloc[:, 2:7].values\n",
    "\n",
    "#labels \n",
    "df_1[\"pop\"]=df_1[\"pop\"].str.replace('.\\d+', '')\n",
    "y =df_1[\"pop\"]\n",
    "\n",
    "#split into test and training data \n",
    "X_train, X_test, y_train, y_test = train_test_split(X, y, test_size=0.20)\n",
    "\n",
    "#scaling the data \n",
    "scaler = StandardScaler()\n",
    "scaler.fit(X_train)\n",
    "X_train = scaler.transform(X_train)\n",
    "X_test = scaler.transform(X_test)\n",
    "\n",
    "#KNN\n",
    "classifier = KNeighborsClassifier(n_neighbors=5)\n",
    "classifier.fit(X_train, y_train)\n",
    "\n",
    "#making sample array from the  \n",
    "sample_array=[]\n",
    "sample=[]\n",
    "sample.append(df_2[2])\n",
    "sample.append(df_2[3])\n",
    "sample.append(df_2[4])\n",
    "sample.append(df_2[5])\n",
    "sample.append(df_2[6])\n",
    "sample_array.append(sample)\n",
    "\n",
    "#scaling the sample \n",
    "test=scaler.transform(sample_array)\n",
    "\n",
    "#predicting ancestry of sample\n",
    "y_pred = classifier.predict(test)\n"
   ]
  },
  {
   "cell_type": "code",
   "execution_count": null,
   "metadata": {},
   "outputs": [],
   "source": []
  },
  {
   "cell_type": "code",
   "execution_count": null,
   "metadata": {},
   "outputs": [],
   "source": []
  }
 ],
 "metadata": {
  "kernelspec": {
   "display_name": "Python 3",
   "language": "python",
   "name": "python3"
  },
  "language_info": {
   "codemirror_mode": {
    "name": "ipython",
    "version": 3
   },
   "file_extension": ".py",
   "mimetype": "text/x-python",
   "name": "python",
   "nbconvert_exporter": "python",
   "pygments_lexer": "ipython3",
   "version": "3.7.3"
  }
 },
 "nbformat": 4,
 "nbformat_minor": 2
}
